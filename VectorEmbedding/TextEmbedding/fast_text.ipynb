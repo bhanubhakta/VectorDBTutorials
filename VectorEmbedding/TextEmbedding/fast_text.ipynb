{
  "nbformat": 4,
  "nbformat_minor": 0,
  "metadata": {
    "colab": {
      "provenance": [],
      "authorship_tag": "ABX9TyPv/ilCOr+Urjb/JDMbHgUE",
      "include_colab_link": true
    },
    "kernelspec": {
      "name": "python3",
      "display_name": "Python 3"
    },
    "language_info": {
      "name": "python"
    }
  },
  "cells": [
    {
      "cell_type": "markdown",
      "metadata": {
        "id": "view-in-github",
        "colab_type": "text"
      },
      "source": [
        "<a href=\"https://colab.research.google.com/github/bhanubhakta/VectorDBTutorials/blob/main/VectorEmbedding/TextEmbedding/fast_text.ipynb\" target=\"_parent\"><img src=\"https://colab.research.google.com/assets/colab-badge.svg\" alt=\"Open In Colab\"/></a>"
      ]
    },
    {
      "cell_type": "code",
      "execution_count": 1,
      "metadata": {
        "colab": {
          "base_uri": "https://localhost:8080/"
        },
        "id": "zRPu6AItn1KP",
        "outputId": "e5981d84-e81a-4850-abba-f17d592db794"
      },
      "outputs": [
        {
          "output_type": "stream",
          "name": "stderr",
          "text": [
            "[nltk_data] Downloading package punkt to /root/nltk_data...\n",
            "[nltk_data]   Unzipping tokenizers/punkt.zip.\n"
          ]
        },
        {
          "output_type": "stream",
          "name": "stdout",
          "text": [
            "Word2Vec and FastText Embeddings Comparison:\n",
            "\n",
            "Word: books\n",
            "  Word2Vec: Available\n",
            "  Word2Vec Similar Words: [('love', 0.16563551127910614), ('linguistics', 0.15375374257564545), ('intelligence', 0.13661062717437744), ('in', 0.12744946777820587), ('favorite', 0.12485578656196594), ('his', 0.10704139620065689), ('on', 0.10229114443063736), ('specializes', 0.04007362574338913), ('computational', -0.023307964205741882), ('natural', -0.023896319791674614)]\n",
            "  FastText: Available\n",
            "  FastText Similar Words: [('she', 0.27207911014556885), ('processing', 0.21918568015098572), ('natural', 0.17626197636127472), ('subject', 0.12099992483854294), ('is', 0.11286628991365433), ('computational', 0.1116899698972702), ('language', 0.08278283476829529), ('in', 0.07669337838888168), ('favorite', 0.06697775423526764), ('artificial', 0.0602119155228138)]\n",
            "\n",
            "Word: book\n",
            "  Word2Vec: Not available\n",
            "  Word2Vec: No similar words because the word is OOV.\n",
            "  FastText: Available\n",
            "  FastText Similar Words: [('books', 0.43720516562461853), ('intelligence', 0.22954705357551575), ('she', 0.17457585036754608), ('favorite', 0.0961926057934761), ('is', 0.07443781942129135), ('natural', 0.07315033674240112), ('linguistics', 0.04447250813245773), ('i', 0.031369131058454514), ('reading', 0.012404722161591053), ('processing', 0.01063587237149477)]\n",
            "\n",
            "Word: intelligence\n",
            "  Word2Vec: Available\n",
            "  Word2Vec Similar Words: [('his', 0.1845843493938446), ('natural', 0.16624972224235535), ('books', 0.13661059737205505), ('processing', 0.13204392790794373), ('linguistics', 0.11823349446058273), ('computational', 0.11519259214401245), ('artificial', 0.11253631114959717), ('is', 0.09594082832336426), ('reading', 0.04491730034351349), ('on', 0.029637018218636513)]\n",
            "  FastText: Available\n",
            "  FastText Similar Words: [('is', 0.2310667634010315), ('in', 0.13743510842323303), ('his', 0.10304613411426544), ('favorite', 0.06326572597026825), ('on', 0.04360736533999443), ('linguistics', 0.03591035678982735), ('artificial', -0.02783869579434395), ('i', -0.051695093512535095), ('computational', -0.056108828634023666), ('books', -0.06351237744092941)]\n",
            "\n",
            "Word: intelligent\n",
            "  Word2Vec: Not available\n",
            "  Word2Vec: No similar words because the word is OOV.\n",
            "  FastText: Available\n",
            "  FastText Similar Words: [('intelligence', 0.7068608403205872), ('is', 0.3951431214809418), ('his', 0.11314519494771957), ('linguistics', 0.10693322122097015), ('books', 0.07088837772607803), ('in', 0.0036274567246437073), ('love', -0.0100701954215765), ('on', -0.02587326057255268), ('artificial', -0.03300134837627411), ('favorite', -0.036900490522384644)]\n"
          ]
        }
      ],
      "source": [
        "import gensim\n",
        "from gensim.models import Word2Vec, FastText\n",
        "from nltk.tokenize import word_tokenize\n",
        "import nltk\n",
        "nltk.download('punkt')\n",
        "\n",
        "# Sample corpus for training\n",
        "corpus = [\n",
        "    \"I love reading books on artificial intelligence\",\n",
        "    \"His favorite subject is computational linguistics\",\n",
        "    \"She specializes in natural language processing\"\n",
        "]\n",
        "\n",
        "# Tokenization of the corpus\n",
        "tokenized_corpus = [word_tokenize(sentence.lower()) for sentence in corpus]\n",
        "\n",
        "# Training Word2Vec and FastText models\n",
        "w2v_model = Word2Vec(tokenized_corpus, vector_size=50, window=3, min_count=1, sg=1)\n",
        "ft_model = FastText(tokenized_corpus, vector_size=50, window=3, min_count=1, sg=1, word_ngrams=1)\n",
        "\n",
        "# Test words\n",
        "test_words = ['books', 'book', 'intelligence', 'intelligent']\n",
        "\n",
        "# Comparing the vectors\n",
        "print(\"Word2Vec and FastText Embeddings Comparison:\")\n",
        "for word in test_words:\n",
        "    print(f\"\\nWord: {word}\")\n",
        "    if word in w2v_model.wv:\n",
        "        print(\"  Word2Vec: Available\")\n",
        "    else:\n",
        "        print(\"  Word2Vec: Not available\")\n",
        "\n",
        "    try:\n",
        "        w2v_sim = w2v_model.wv.most_similar(word)\n",
        "        print(\"  Word2Vec Similar Words:\", w2v_sim)\n",
        "    except KeyError:\n",
        "        print(\"  Word2Vec: No similar words because the word is OOV.\")\n",
        "\n",
        "    if word in ft_model.wv:\n",
        "        print(\"  FastText: Available\")\n",
        "    else:\n",
        "        print(\"  FastText: Not available\")\n",
        "\n",
        "    ft_sim = ft_model.wv.most_similar(word)\n",
        "    print(\"  FastText Similar Words:\", ft_sim)\n",
        "\n"
      ]
    }
  ]
}