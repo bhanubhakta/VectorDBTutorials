{
  "nbformat": 4,
  "nbformat_minor": 0,
  "metadata": {
    "colab": {
      "provenance": []
    },
    "kernelspec": {
      "name": "python3",
      "display_name": "Python 3"
    },
    "language_info": {
      "name": "python"
    }
  },
  "cells": [
    {
      "cell_type": "code",
      "execution_count": 1,
      "metadata": {
        "colab": {
          "base_uri": "https://localhost:8080/"
        },
        "id": "v1JMk0iWhd7N",
        "outputId": "771b91b8-8864-48d7-e168-889e0f85d33c"
      },
      "outputs": [
        {
          "output_type": "stream",
          "name": "stdout",
          "text": [
            "   blue  bright  can  in  is  see  shining  sky  sun  the  we\n",
            "0     1       0    0   0   1    0        0    1    0    1   0\n",
            "1     0       1    0   0   1    0        0    0    1    1   0\n",
            "2     0       1    0   1   1    0        0    1    1    2   0\n",
            "3     0       1    1   0   0    1        1    0    2    2   1\n"
          ]
        }
      ],
      "source": [
        "from sklearn.feature_extraction.text import CountVectorizer\n",
        "\n",
        "# Sample documents\n",
        "documents = [\n",
        "    \"the sky is blue\",\n",
        "    \"the sun is bright\",\n",
        "    \"the sun in the sky is bright\",\n",
        "    \"we can see the shining sun the bright sun.\"\n",
        "]\n",
        "\n",
        "# Initialize the CountVectorizer\n",
        "vectorizer = CountVectorizer()\n",
        "\n",
        "# Fit and transform the documents\n",
        "\n",
        "bag_of_words = vectorizer.fit_transform(documents)\n",
        "\n",
        "# Get feature names to use as dataframe column headers\n",
        "feature_names = vectorizer.get_feature_names_out()\n",
        "\n",
        "# Create the pandas DataFrame\n",
        "import pandas as pd\n",
        "df = pd.DataFrame(bag_of_words.toarray(), columns=feature_names)\n",
        "\n",
        "print(df)"
      ]
    }
  ]
}